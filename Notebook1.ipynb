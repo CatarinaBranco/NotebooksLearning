{
 "cells": [
  {
   "cell_type": "markdown",
   "id": "337b2a94-adb7-42c2-ad39-10a2be896f3f",
   "metadata": {},
   "source": [
    "# Notebook 1"
   ]
  },
  {
   "cell_type": "code",
   "execution_count": 54,
   "id": "c17ba8b0-d241-4058-a076-db6e8ef8179d",
   "metadata": {},
   "outputs": [],
   "source": [
    "#!pip install pymysql\n",
    "#!pip install --upgrade pip\n",
    "#!pip install psycopg2 (for PostgreSQL databases)\n",
    "#!pip install kagglehub\n",
    "#!pip install psycopg2-binary ipython-sql\n",
    "import psycopg2 # postgreSQL driver for python. To connect.\n",
    "from sqlalchemy import create_engine, text # testx wraps a raw SQL string into a TextClause object\n",
    "import os\n",
    "import pandas as pd\n",
    "os.environ[\"KAGGLEHUB_CACHE\"] = \"/Users/catarina/Desktop/EMDYN\"\n",
    "import kagglehub\n",
    "import subprocess # very useful module that allows me to more elegantly run bash commands\n",
    "from IPython.display import HTML, display # like the sql, to read html code\n",
    "import pymongo\n",
    "from bson import ObjectId  # for handling ObjectId fields if needed\n",
    "from datetime import datetime"
   ]
  },
  {
   "cell_type": "markdown",
   "id": "eb230d1b-c973-497d-a6bb-bb4a9d2f9b2b",
   "metadata": {},
   "source": [
    "## 1. Reverts a normal list"
   ]
  },
  {
   "cell_type": "code",
   "execution_count": 55,
   "id": "cafa9cdb-c467-4174-a617-9f8f4c234aa1",
   "metadata": {},
   "outputs": [],
   "source": [
    "def reverse_list(lst):\n",
    "    \"\"\"\n",
    "    Return a new list that is the reverse of lst.\n",
    "    \"\"\"\n",
    "    return lst[::-1]\n",
    "\n"
   ]
  },
  {
   "cell_type": "code",
   "execution_count": 56,
   "id": "3091852e-e915-4cd2-9ad1-2f43ca0a9586",
   "metadata": {},
   "outputs": [
    {
     "name": "stdout",
     "output_type": "stream",
     "text": [
      "Original: [1, 2, 3, 4, 5]\n",
      "Reversed: [5, 4, 3, 2, 1]\n",
      "Original: ['water', 'fire', 'land', 'air']\n",
      "Reversed: ['air', 'land', 'fire', 'water']\n"
     ]
    }
   ],
   "source": [
    "# Example:\n",
    "original = [1, 2, 3, 4, 5]\n",
    "reversed_list = reverse_list(original)\n",
    "\n",
    "print(\"Original:\", original)      # Original: [1, 2, 3, 4, 5]\n",
    "print(\"Reversed:\", reversed_list) # Reversed: [5, 4, 3, 2, 1]\n",
    "\n",
    "original = ['water', 'fire', 'land', 'air']\n",
    "reversed_list = reverse_list(original)\n",
    "\n",
    "print(\"Original:\", original)      # Original: [1, 2, 3, 4, 5]\n",
    "print(\"Reversed:\", reversed_list) # Reversed: [5, 4, 3, 2, 1]\n"
   ]
  },
  {
   "cell_type": "markdown",
   "id": "097a0c30-ee39-4df7-981c-cb94acd8ce76",
   "metadata": {},
   "source": [
    "## 2. Write a function in Python that reverses a linked list."
   ]
  },
  {
   "cell_type": "markdown",
   "id": "e28852dc-b974-48c5-949a-4fa3652cb652",
   "metadata": {},
   "source": [
    "A linked list is a fundamental data structure in computer science used to store a sequence of elements—called nodes—where each node holds:\n",
    "\n",
    "A piece of data (often called its “value” or “payload”).\n",
    "A reference (pointer) to the next node in the sequence (and in some variants, also to the previous node).\n",
    "\n",
    "[Node A] → [Node B] → [Node C] → None\n",
    "   data       data       data\n",
    "   next       next       next\n"
   ]
  },
  {
   "cell_type": "markdown",
   "id": "30818a63-b344-4a0a-b2ff-e46b964e2117",
   "metadata": {},
   "source": [
    "#### Advantages and disadvantages on each list kind\n",
    "Different. Use array when we need to acess entries, when we need to look up by index\n",
    "When we know the size and it will not increase use array. \n",
    "Linked list: if entries will be deleted. No need to acess random indexes."
   ]
  },
  {
   "cell_type": "markdown",
   "id": "1addd540-6dae-4f01-8e63-08cc2c31c672",
   "metadata": {},
   "source": [
    "## 3. Merge two sorted arrays into a single sorted array\n",
    "Merge two arrays, A and B. \n",
    "Get the lenght of each array.\n",
    "Staring from \n",
    "    i=0\n",
    "    j=0\n",
    "Compare the values of the array for index i and j. Depending when which is larger add to the array C (A+B).\n"
   ]
  },
  {
   "cell_type": "markdown",
   "id": "0cf5458e-d002-492f-b325-ac831b4aee46",
   "metadata": {},
   "source": [
    "## 4. Describe how hash tables work, including collision resolution strategies.\n"
   ]
  },
  {
   "cell_type": "markdown",
   "id": "b93f6131-eb05-420f-99bf-6f6f5bd013af",
   "metadata": {},
   "source": [
    "Dinamic set of data\n",
    "They allow for insert/delete/search. Search is they best part because they take in average O(1) (a big O of 1), and a O(n) in the worst case.\n",
    "#### NOTE\n",
    "- O(1) is **constant time**, which means it doesnt take longer as the input size increases. For example, referencing an item in an array takes O(1) time.\n",
    "- O(logn) is **logarithmic time**, which means as the input size increases it takes a logarithmically small amount more time. For example, binary searching a sorted list is O(logn).\n",
    "- O(n) is **linear time**, which means it takes a constant factor of time proportional to the size of the input size. For example, iterating over every element of an array 5 times is O(n).\n",
    "\n",
    "Many times confused with a dictionary. A hash table is actually a dictionary using a hash function.\n",
    "Let's look at direct-acess tables, similar concept to hash tables. They are actually an array. Constant time operations. If we need to store an infinite number of heys, the iniverse is **unbounded and impratical** to store in memory. \n",
    "\n",
    "In the hash tables the universe is not unbounded, the space is O(k). There is a hash function that maps keys to a location int the table that has data. There may be two keys with the same data. This **collision** can be dealt with ccaining. this is creating list within the data.\n",
    "The best way is to prevent collisions. A way to do it is with the division. By doing this you create a table with size m and spread you data through the table, with a division. The index of each data stores in the table is obtained by looking at the remainder between the value of the data and the size of the table."
   ]
  },
  {
   "cell_type": "code",
   "execution_count": 57,
   "id": "971782c2-b4e8-4c4c-ae17-c1a1b2bb042c",
   "metadata": {},
   "outputs": [
    {
     "name": "stdout",
     "output_type": "stream",
     "text": [
      "C\n"
     ]
    }
   ],
   "source": [
    "# Dictonary example\n",
    "dictionary = {\n",
    "    'a': 1,\n",
    "    'b': 9, \n",
    "    'c': 'C',\n",
    "    'd': True\n",
    "}\n",
    "\n",
    "# insert\n",
    "dictionary['e'] = False\n",
    "\n",
    "# delete\n",
    "del dictionary['a']\n",
    "\n",
    "# search \n",
    "print(dictionary['c'])"
   ]
  },
  {
   "cell_type": "markdown",
   "id": "c7a393dc-6772-4e1b-96d7-b5d5911c58b6",
   "metadata": {},
   "source": [
    "## 5. Write a SQL query to find the second highest salary from a table of employee salaries."
   ]
  },
  {
   "cell_type": "markdown",
   "id": "123f0654-3681-41b6-a9fa-02bd8ebe57ce",
   "metadata": {},
   "source": [
    "I want to use PostgreSQL.\n",
    "\n",
    "It is a database management system (RDBMS). OIt is a software. It allows to store, organize using SQL language. Other alternative could be MySQL and IBM db2."
   ]
  },
  {
   "cell_type": "code",
   "execution_count": 58,
   "id": "99ab4f7a-7d80-4b59-bfeb-f889e73ce8e9",
   "metadata": {},
   "outputs": [
    {
     "name": "stdout",
     "output_type": "stream",
     "text": [
      "Path to dataset files: /Users/catarina/Desktop/EMDYN/datasets/hummaamqaasim/jobs-in-data/versions/6\n",
      "jobs_in_data.csv\n",
      "/Users/catarina/Desktop/EMDYN/datasets/hummaamqaasim/jobs-in-data/versions/6/jobs_in_data.csv\n"
     ]
    }
   ],
   "source": [
    "# download dataset\n",
    "path = kagglehub.dataset_download(\"hummaamqaasim/jobs-in-data\")\n",
    "print(\"Path to dataset files:\", path)\n",
    "print(os.listdir(path)[0])\n",
    "\n",
    "file=path+'/'+(os.listdir(path)[0])\n",
    "print(file)"
   ]
  },
  {
   "cell_type": "code",
   "execution_count": 59,
   "id": "ce075c27-9a9c-45e6-8faa-27a0cbf6fc60",
   "metadata": {},
   "outputs": [
    {
     "name": "stdout",
     "output_type": "stream",
     "text": [
      "Loaded CSV with shape: (9355, 12)\n"
     ]
    },
    {
     "data": {
      "text/html": [
       "<div>\n",
       "<style scoped>\n",
       "    .dataframe tbody tr th:only-of-type {\n",
       "        vertical-align: middle;\n",
       "    }\n",
       "\n",
       "    .dataframe tbody tr th {\n",
       "        vertical-align: top;\n",
       "    }\n",
       "\n",
       "    .dataframe thead th {\n",
       "        text-align: right;\n",
       "    }\n",
       "</style>\n",
       "<table border=\"1\" class=\"dataframe\">\n",
       "  <thead>\n",
       "    <tr style=\"text-align: right;\">\n",
       "      <th></th>\n",
       "      <th>work_year</th>\n",
       "      <th>job_title</th>\n",
       "      <th>job_category</th>\n",
       "      <th>salary_currency</th>\n",
       "      <th>salary</th>\n",
       "      <th>salary_in_usd</th>\n",
       "      <th>employee_residence</th>\n",
       "      <th>experience_level</th>\n",
       "      <th>employment_type</th>\n",
       "      <th>work_setting</th>\n",
       "      <th>company_location</th>\n",
       "      <th>company_size</th>\n",
       "    </tr>\n",
       "  </thead>\n",
       "  <tbody>\n",
       "    <tr>\n",
       "      <th>0</th>\n",
       "      <td>2023</td>\n",
       "      <td>Data DevOps Engineer</td>\n",
       "      <td>Data Engineering</td>\n",
       "      <td>EUR</td>\n",
       "      <td>88000</td>\n",
       "      <td>95012</td>\n",
       "      <td>Germany</td>\n",
       "      <td>Mid-level</td>\n",
       "      <td>Full-time</td>\n",
       "      <td>Hybrid</td>\n",
       "      <td>Germany</td>\n",
       "      <td>L</td>\n",
       "    </tr>\n",
       "    <tr>\n",
       "      <th>1</th>\n",
       "      <td>2023</td>\n",
       "      <td>Data Architect</td>\n",
       "      <td>Data Architecture and Modeling</td>\n",
       "      <td>USD</td>\n",
       "      <td>186000</td>\n",
       "      <td>186000</td>\n",
       "      <td>United States</td>\n",
       "      <td>Senior</td>\n",
       "      <td>Full-time</td>\n",
       "      <td>In-person</td>\n",
       "      <td>United States</td>\n",
       "      <td>M</td>\n",
       "    </tr>\n",
       "    <tr>\n",
       "      <th>2</th>\n",
       "      <td>2023</td>\n",
       "      <td>Data Architect</td>\n",
       "      <td>Data Architecture and Modeling</td>\n",
       "      <td>USD</td>\n",
       "      <td>81800</td>\n",
       "      <td>81800</td>\n",
       "      <td>United States</td>\n",
       "      <td>Senior</td>\n",
       "      <td>Full-time</td>\n",
       "      <td>In-person</td>\n",
       "      <td>United States</td>\n",
       "      <td>M</td>\n",
       "    </tr>\n",
       "    <tr>\n",
       "      <th>3</th>\n",
       "      <td>2023</td>\n",
       "      <td>Data Scientist</td>\n",
       "      <td>Data Science and Research</td>\n",
       "      <td>USD</td>\n",
       "      <td>212000</td>\n",
       "      <td>212000</td>\n",
       "      <td>United States</td>\n",
       "      <td>Senior</td>\n",
       "      <td>Full-time</td>\n",
       "      <td>In-person</td>\n",
       "      <td>United States</td>\n",
       "      <td>M</td>\n",
       "    </tr>\n",
       "    <tr>\n",
       "      <th>4</th>\n",
       "      <td>2023</td>\n",
       "      <td>Data Scientist</td>\n",
       "      <td>Data Science and Research</td>\n",
       "      <td>USD</td>\n",
       "      <td>93300</td>\n",
       "      <td>93300</td>\n",
       "      <td>United States</td>\n",
       "      <td>Senior</td>\n",
       "      <td>Full-time</td>\n",
       "      <td>In-person</td>\n",
       "      <td>United States</td>\n",
       "      <td>M</td>\n",
       "    </tr>\n",
       "  </tbody>\n",
       "</table>\n",
       "</div>"
      ],
      "text/plain": [
       "   work_year             job_title                    job_category  \\\n",
       "0       2023  Data DevOps Engineer                Data Engineering   \n",
       "1       2023        Data Architect  Data Architecture and Modeling   \n",
       "2       2023        Data Architect  Data Architecture and Modeling   \n",
       "3       2023        Data Scientist       Data Science and Research   \n",
       "4       2023        Data Scientist       Data Science and Research   \n",
       "\n",
       "  salary_currency  salary  salary_in_usd employee_residence experience_level  \\\n",
       "0             EUR   88000          95012            Germany        Mid-level   \n",
       "1             USD  186000         186000      United States           Senior   \n",
       "2             USD   81800          81800      United States           Senior   \n",
       "3             USD  212000         212000      United States           Senior   \n",
       "4             USD   93300          93300      United States           Senior   \n",
       "\n",
       "  employment_type work_setting company_location company_size  \n",
       "0       Full-time       Hybrid          Germany            L  \n",
       "1       Full-time    In-person    United States            M  \n",
       "2       Full-time    In-person    United States            M  \n",
       "3       Full-time    In-person    United States            M  \n",
       "4       Full-time    In-person    United States            M  "
      ]
     },
     "execution_count": 59,
     "metadata": {},
     "output_type": "execute_result"
    }
   ],
   "source": [
    "# read the file into pandas\n",
    "df = pd.read_csv(file)\n",
    "\n",
    "# show first rows\n",
    "print(\"Loaded CSV with shape:\", df.shape)\n",
    "df.head()"
   ]
  },
  {
   "cell_type": "code",
   "execution_count": 60,
   "id": "3e4d03a2-e022-4fc8-b953-3113e962748f",
   "metadata": {},
   "outputs": [
    {
     "data": {
      "text/html": [
       "<div>\n",
       "<style scoped>\n",
       "    .dataframe tbody tr th:only-of-type {\n",
       "        vertical-align: middle;\n",
       "    }\n",
       "\n",
       "    .dataframe tbody tr th {\n",
       "        vertical-align: top;\n",
       "    }\n",
       "\n",
       "    .dataframe thead th {\n",
       "        text-align: right;\n",
       "    }\n",
       "</style>\n",
       "<table border=\"1\" class=\"dataframe\">\n",
       "  <thead>\n",
       "    <tr style=\"text-align: right;\">\n",
       "      <th></th>\n",
       "      <th>work_year</th>\n",
       "      <th>job_title</th>\n",
       "      <th>job_category</th>\n",
       "      <th>salary_currency</th>\n",
       "      <th>salary</th>\n",
       "      <th>salary_in_usd</th>\n",
       "      <th>employee_residence</th>\n",
       "      <th>experience_level</th>\n",
       "      <th>employment_type</th>\n",
       "      <th>work_setting</th>\n",
       "      <th>company_location</th>\n",
       "      <th>company_size</th>\n",
       "    </tr>\n",
       "  </thead>\n",
       "  <tbody>\n",
       "    <tr>\n",
       "      <th>count</th>\n",
       "      <td>9355.000000</td>\n",
       "      <td>9355</td>\n",
       "      <td>9355</td>\n",
       "      <td>9355</td>\n",
       "      <td>9355.000000</td>\n",
       "      <td>9355.000000</td>\n",
       "      <td>9355</td>\n",
       "      <td>9355</td>\n",
       "      <td>9355</td>\n",
       "      <td>9355</td>\n",
       "      <td>9355</td>\n",
       "      <td>9355</td>\n",
       "    </tr>\n",
       "    <tr>\n",
       "      <th>unique</th>\n",
       "      <td>NaN</td>\n",
       "      <td>125</td>\n",
       "      <td>10</td>\n",
       "      <td>11</td>\n",
       "      <td>NaN</td>\n",
       "      <td>NaN</td>\n",
       "      <td>83</td>\n",
       "      <td>4</td>\n",
       "      <td>4</td>\n",
       "      <td>3</td>\n",
       "      <td>70</td>\n",
       "      <td>3</td>\n",
       "    </tr>\n",
       "    <tr>\n",
       "      <th>top</th>\n",
       "      <td>NaN</td>\n",
       "      <td>Data Engineer</td>\n",
       "      <td>Data Science and Research</td>\n",
       "      <td>USD</td>\n",
       "      <td>NaN</td>\n",
       "      <td>NaN</td>\n",
       "      <td>United States</td>\n",
       "      <td>Senior</td>\n",
       "      <td>Full-time</td>\n",
       "      <td>In-person</td>\n",
       "      <td>United States</td>\n",
       "      <td>M</td>\n",
       "    </tr>\n",
       "    <tr>\n",
       "      <th>freq</th>\n",
       "      <td>NaN</td>\n",
       "      <td>2195</td>\n",
       "      <td>3014</td>\n",
       "      <td>8591</td>\n",
       "      <td>NaN</td>\n",
       "      <td>NaN</td>\n",
       "      <td>8086</td>\n",
       "      <td>6709</td>\n",
       "      <td>9310</td>\n",
       "      <td>5730</td>\n",
       "      <td>8132</td>\n",
       "      <td>8448</td>\n",
       "    </tr>\n",
       "    <tr>\n",
       "      <th>mean</th>\n",
       "      <td>2022.760449</td>\n",
       "      <td>NaN</td>\n",
       "      <td>NaN</td>\n",
       "      <td>NaN</td>\n",
       "      <td>149927.981293</td>\n",
       "      <td>150299.495564</td>\n",
       "      <td>NaN</td>\n",
       "      <td>NaN</td>\n",
       "      <td>NaN</td>\n",
       "      <td>NaN</td>\n",
       "      <td>NaN</td>\n",
       "      <td>NaN</td>\n",
       "    </tr>\n",
       "    <tr>\n",
       "      <th>std</th>\n",
       "      <td>0.519470</td>\n",
       "      <td>NaN</td>\n",
       "      <td>NaN</td>\n",
       "      <td>NaN</td>\n",
       "      <td>63608.835387</td>\n",
       "      <td>63177.372024</td>\n",
       "      <td>NaN</td>\n",
       "      <td>NaN</td>\n",
       "      <td>NaN</td>\n",
       "      <td>NaN</td>\n",
       "      <td>NaN</td>\n",
       "      <td>NaN</td>\n",
       "    </tr>\n",
       "    <tr>\n",
       "      <th>min</th>\n",
       "      <td>2020.000000</td>\n",
       "      <td>NaN</td>\n",
       "      <td>NaN</td>\n",
       "      <td>NaN</td>\n",
       "      <td>14000.000000</td>\n",
       "      <td>15000.000000</td>\n",
       "      <td>NaN</td>\n",
       "      <td>NaN</td>\n",
       "      <td>NaN</td>\n",
       "      <td>NaN</td>\n",
       "      <td>NaN</td>\n",
       "      <td>NaN</td>\n",
       "    </tr>\n",
       "    <tr>\n",
       "      <th>25%</th>\n",
       "      <td>2023.000000</td>\n",
       "      <td>NaN</td>\n",
       "      <td>NaN</td>\n",
       "      <td>NaN</td>\n",
       "      <td>105200.000000</td>\n",
       "      <td>105700.000000</td>\n",
       "      <td>NaN</td>\n",
       "      <td>NaN</td>\n",
       "      <td>NaN</td>\n",
       "      <td>NaN</td>\n",
       "      <td>NaN</td>\n",
       "      <td>NaN</td>\n",
       "    </tr>\n",
       "    <tr>\n",
       "      <th>50%</th>\n",
       "      <td>2023.000000</td>\n",
       "      <td>NaN</td>\n",
       "      <td>NaN</td>\n",
       "      <td>NaN</td>\n",
       "      <td>143860.000000</td>\n",
       "      <td>143000.000000</td>\n",
       "      <td>NaN</td>\n",
       "      <td>NaN</td>\n",
       "      <td>NaN</td>\n",
       "      <td>NaN</td>\n",
       "      <td>NaN</td>\n",
       "      <td>NaN</td>\n",
       "    </tr>\n",
       "    <tr>\n",
       "      <th>75%</th>\n",
       "      <td>2023.000000</td>\n",
       "      <td>NaN</td>\n",
       "      <td>NaN</td>\n",
       "      <td>NaN</td>\n",
       "      <td>187000.000000</td>\n",
       "      <td>186723.000000</td>\n",
       "      <td>NaN</td>\n",
       "      <td>NaN</td>\n",
       "      <td>NaN</td>\n",
       "      <td>NaN</td>\n",
       "      <td>NaN</td>\n",
       "      <td>NaN</td>\n",
       "    </tr>\n",
       "    <tr>\n",
       "      <th>max</th>\n",
       "      <td>2023.000000</td>\n",
       "      <td>NaN</td>\n",
       "      <td>NaN</td>\n",
       "      <td>NaN</td>\n",
       "      <td>450000.000000</td>\n",
       "      <td>450000.000000</td>\n",
       "      <td>NaN</td>\n",
       "      <td>NaN</td>\n",
       "      <td>NaN</td>\n",
       "      <td>NaN</td>\n",
       "      <td>NaN</td>\n",
       "      <td>NaN</td>\n",
       "    </tr>\n",
       "  </tbody>\n",
       "</table>\n",
       "</div>"
      ],
      "text/plain": [
       "          work_year      job_title               job_category salary_currency  \\\n",
       "count   9355.000000           9355                       9355            9355   \n",
       "unique          NaN            125                         10              11   \n",
       "top             NaN  Data Engineer  Data Science and Research             USD   \n",
       "freq            NaN           2195                       3014            8591   \n",
       "mean    2022.760449            NaN                        NaN             NaN   \n",
       "std        0.519470            NaN                        NaN             NaN   \n",
       "min     2020.000000            NaN                        NaN             NaN   \n",
       "25%     2023.000000            NaN                        NaN             NaN   \n",
       "50%     2023.000000            NaN                        NaN             NaN   \n",
       "75%     2023.000000            NaN                        NaN             NaN   \n",
       "max     2023.000000            NaN                        NaN             NaN   \n",
       "\n",
       "               salary  salary_in_usd employee_residence experience_level  \\\n",
       "count     9355.000000    9355.000000               9355             9355   \n",
       "unique            NaN            NaN                 83                4   \n",
       "top               NaN            NaN      United States           Senior   \n",
       "freq              NaN            NaN               8086             6709   \n",
       "mean    149927.981293  150299.495564                NaN              NaN   \n",
       "std      63608.835387   63177.372024                NaN              NaN   \n",
       "min      14000.000000   15000.000000                NaN              NaN   \n",
       "25%     105200.000000  105700.000000                NaN              NaN   \n",
       "50%     143860.000000  143000.000000                NaN              NaN   \n",
       "75%     187000.000000  186723.000000                NaN              NaN   \n",
       "max     450000.000000  450000.000000                NaN              NaN   \n",
       "\n",
       "       employment_type work_setting company_location company_size  \n",
       "count             9355         9355             9355         9355  \n",
       "unique               4            3               70            3  \n",
       "top          Full-time    In-person    United States            M  \n",
       "freq              9310         5730             8132         8448  \n",
       "mean               NaN          NaN              NaN          NaN  \n",
       "std                NaN          NaN              NaN          NaN  \n",
       "min                NaN          NaN              NaN          NaN  \n",
       "25%                NaN          NaN              NaN          NaN  \n",
       "50%                NaN          NaN              NaN          NaN  \n",
       "75%                NaN          NaN              NaN          NaN  \n",
       "max                NaN          NaN              NaN          NaN  "
      ]
     },
     "execution_count": 60,
     "metadata": {},
     "output_type": "execute_result"
    }
   ],
   "source": [
    "df.describe(include='all')"
   ]
  },
  {
   "cell_type": "code",
   "execution_count": 61,
   "id": "60c1a12c-ee80-43f6-be3d-dc691c7aea52",
   "metadata": {},
   "outputs": [
    {
     "name": "stdout",
     "output_type": "stream",
     "text": [
      "Service `postgresql@14` already started, use `brew services restart postgresql@14` to restart.\n",
      "/tmp:5432 - accepting connections\n"
     ]
    }
   ],
   "source": [
    "!brew services start postgresql\n",
    "!pg_isready\n",
    "%load_ext sql"
   ]
  },
  {
   "cell_type": "code",
   "execution_count": 62,
   "id": "a6ee9521-697c-4133-a452-5a5f6b459196",
   "metadata": {},
   "outputs": [
    {
     "name": "stdout",
     "output_type": "stream",
     "text": [
      "Database 'mydata' already exists.\n",
      "User 'cbranco' already exists.\n",
      "Granted all privileges on 'mydata' to 'cbranco'.\n"
     ]
    }
   ],
   "source": [
    "# Function to help with the bash commands, using the subprocess module I called earlier\n",
    "def run_shell_command(cmd):\n",
    "    result = subprocess.run(cmd, capture_output=True, text=True)\n",
    "    return result\n",
    "\n",
    "# Create mydata database, or say if it already exists\n",
    "db_check = run_shell_command([\n",
    "    \"psql\", \"-U\", \"postgres\", \"-tAc\",\n",
    "    \"SELECT 1 FROM pg_database WHERE datname='mydata';\"\n",
    "])\n",
    "if db_check.stdout.strip() == \"1\":\n",
    "    print(\"Database 'mydata' already exists.\")\n",
    "else:\n",
    "    create_db = run_shell_command([\"createdb\", \"employees\"])\n",
    "    if create_db.returncode == 0:\n",
    "        print(\"Database 'mydata' created successfully.\")\n",
    "    else:\n",
    "        print(\"Error creating database 'mydata':\", create_db.stderr)\n",
    "\n",
    "# Create my username or say if already exists \n",
    "user_check = run_shell_command([\n",
    "    \"psql\", \"-U\", \"postgres\", \"-tAc\",\n",
    "    \"SELECT 1 FROM pg_roles WHERE rolname='cbranco';\"\n",
    "])\n",
    "if user_check.stdout.strip() == \"1\":\n",
    "    print(\"User 'cbranco' already exists.\")\n",
    "else:\n",
    "    create_user = run_shell_command([\n",
    "        \"psql\", \"-U\", \"postgres\", \"-c\",\n",
    "        \"CREATE USER cbranco WITH PASSWORD '0000';\"\n",
    "    ])\n",
    "    if create_user.returncode == 0:\n",
    "        print(\"User 'cbranco' created successfully.\")\n",
    "    else:\n",
    "        print(\"Error creating user 'cbranco':\", create_user.stderr)\n",
    "\n",
    "# 3) Grant privileges on 'mydata' to 'cbranco'\n",
    "grant_privs = run_shell_command([\n",
    "    \"psql\", \"-U\", \"postgres\", \"-c\",\n",
    "    \"GRANT ALL PRIVILEGES ON DATABASE mydata TO cbranco;\"\n",
    "])\n",
    "if grant_privs.returncode == 0:\n",
    "    print(\"Granted all privileges on 'mydata' to 'cbranco'.\")\n",
    "else:\n",
    "    print(\"Error granting privileges:\", grant_privs.stderr)\n"
   ]
  },
  {
   "cell_type": "code",
   "execution_count": 63,
   "id": "1635cd0b-8d98-461d-982f-23a2363d2ae4",
   "metadata": {},
   "outputs": [
    {
     "name": "stdout",
     "output_type": "stream",
     "text": [
      "✅ CSV has been written into Postgres as table `employees`.\n"
     ]
    }
   ],
   "source": [
    "# Reuse your Postgres credentials\n",
    "DB_USER     = \"cbranco\"\n",
    "DB_PASSWORD = \"0000\"\n",
    "DB_HOST     = \"localhost\"\n",
    "DB_PORT     = \"5432\"\n",
    "DB_NAME     = \"mydata\"\n",
    "\n",
    "engine = create_engine(\n",
    "    f\"postgresql+psycopg2://{DB_USER}:{DB_PASSWORD}@{DB_HOST}:{DB_PORT}/{DB_NAME}\"\n",
    ")\n",
    "\n",
    "#send the df to sql table (employees)\n",
    "df.to_sql(\n",
    "    name=\"employees\",\n",
    "    con=engine,\n",
    "    if_exists=\"replace\",\n",
    "    index=False\n",
    ")\n",
    "\n",
    "print(\"✅ CSV has been written into Postgres as table `employees`.\")"
   ]
  },
  {
   "cell_type": "code",
   "execution_count": 64,
   "id": "9bd0a45a-4656-44a3-8184-67e19df816a3",
   "metadata": {},
   "outputs": [
    {
     "data": {
      "text/html": [
       "<div>\n",
       "<style scoped>\n",
       "    .dataframe tbody tr th:only-of-type {\n",
       "        vertical-align: middle;\n",
       "    }\n",
       "\n",
       "    .dataframe tbody tr th {\n",
       "        vertical-align: top;\n",
       "    }\n",
       "\n",
       "    .dataframe thead th {\n",
       "        text-align: right;\n",
       "    }\n",
       "</style>\n",
       "<table border=\"1\" class=\"dataframe\">\n",
       "  <thead>\n",
       "    <tr style=\"text-align: right;\">\n",
       "      <th></th>\n",
       "      <th>work_year</th>\n",
       "      <th>job_title</th>\n",
       "      <th>job_category</th>\n",
       "      <th>salary_currency</th>\n",
       "      <th>salary</th>\n",
       "      <th>salary_in_usd</th>\n",
       "      <th>employee_residence</th>\n",
       "      <th>experience_level</th>\n",
       "      <th>employment_type</th>\n",
       "      <th>work_setting</th>\n",
       "      <th>company_location</th>\n",
       "      <th>company_size</th>\n",
       "    </tr>\n",
       "  </thead>\n",
       "  <tbody>\n",
       "    <tr>\n",
       "      <th>0</th>\n",
       "      <td>2023</td>\n",
       "      <td>Data DevOps Engineer</td>\n",
       "      <td>Data Engineering</td>\n",
       "      <td>EUR</td>\n",
       "      <td>88000</td>\n",
       "      <td>95012</td>\n",
       "      <td>Germany</td>\n",
       "      <td>Mid-level</td>\n",
       "      <td>Full-time</td>\n",
       "      <td>Hybrid</td>\n",
       "      <td>Germany</td>\n",
       "      <td>L</td>\n",
       "    </tr>\n",
       "    <tr>\n",
       "      <th>1</th>\n",
       "      <td>2023</td>\n",
       "      <td>Data Architect</td>\n",
       "      <td>Data Architecture and Modeling</td>\n",
       "      <td>USD</td>\n",
       "      <td>186000</td>\n",
       "      <td>186000</td>\n",
       "      <td>United States</td>\n",
       "      <td>Senior</td>\n",
       "      <td>Full-time</td>\n",
       "      <td>In-person</td>\n",
       "      <td>United States</td>\n",
       "      <td>M</td>\n",
       "    </tr>\n",
       "    <tr>\n",
       "      <th>2</th>\n",
       "      <td>2023</td>\n",
       "      <td>Data Architect</td>\n",
       "      <td>Data Architecture and Modeling</td>\n",
       "      <td>USD</td>\n",
       "      <td>81800</td>\n",
       "      <td>81800</td>\n",
       "      <td>United States</td>\n",
       "      <td>Senior</td>\n",
       "      <td>Full-time</td>\n",
       "      <td>In-person</td>\n",
       "      <td>United States</td>\n",
       "      <td>M</td>\n",
       "    </tr>\n",
       "    <tr>\n",
       "      <th>3</th>\n",
       "      <td>2023</td>\n",
       "      <td>Data Scientist</td>\n",
       "      <td>Data Science and Research</td>\n",
       "      <td>USD</td>\n",
       "      <td>212000</td>\n",
       "      <td>212000</td>\n",
       "      <td>United States</td>\n",
       "      <td>Senior</td>\n",
       "      <td>Full-time</td>\n",
       "      <td>In-person</td>\n",
       "      <td>United States</td>\n",
       "      <td>M</td>\n",
       "    </tr>\n",
       "    <tr>\n",
       "      <th>4</th>\n",
       "      <td>2023</td>\n",
       "      <td>Data Scientist</td>\n",
       "      <td>Data Science and Research</td>\n",
       "      <td>USD</td>\n",
       "      <td>93300</td>\n",
       "      <td>93300</td>\n",
       "      <td>United States</td>\n",
       "      <td>Senior</td>\n",
       "      <td>Full-time</td>\n",
       "      <td>In-person</td>\n",
       "      <td>United States</td>\n",
       "      <td>M</td>\n",
       "    </tr>\n",
       "  </tbody>\n",
       "</table>\n",
       "</div>"
      ],
      "text/plain": [
       "   work_year             job_title                    job_category  \\\n",
       "0       2023  Data DevOps Engineer                Data Engineering   \n",
       "1       2023        Data Architect  Data Architecture and Modeling   \n",
       "2       2023        Data Architect  Data Architecture and Modeling   \n",
       "3       2023        Data Scientist       Data Science and Research   \n",
       "4       2023        Data Scientist       Data Science and Research   \n",
       "\n",
       "  salary_currency  salary  salary_in_usd employee_residence experience_level  \\\n",
       "0             EUR   88000          95012            Germany        Mid-level   \n",
       "1             USD  186000         186000      United States           Senior   \n",
       "2             USD   81800          81800      United States           Senior   \n",
       "3             USD  212000         212000      United States           Senior   \n",
       "4             USD   93300          93300      United States           Senior   \n",
       "\n",
       "  employment_type work_setting company_location company_size  \n",
       "0       Full-time       Hybrid          Germany            L  \n",
       "1       Full-time    In-person    United States            M  \n",
       "2       Full-time    In-person    United States            M  \n",
       "3       Full-time    In-person    United States            M  \n",
       "4       Full-time    In-person    United States            M  "
      ]
     },
     "execution_count": 64,
     "metadata": {},
     "output_type": "execute_result"
    }
   ],
   "source": [
    "# Read back the first 5 rows from Postgres\n",
    "df2 = pd.read_sql_query(\"SELECT * FROM employees LIMIT 5;\", con=engine)\n",
    "df2"
   ]
  },
  {
   "cell_type": "code",
   "execution_count": 65,
   "id": "c92c533b-c1af-4682-9daf-c057f61696de",
   "metadata": {},
   "outputs": [],
   "source": [
    "sql_snd_dalary = \"\"\"\n",
    "\n",
    "SELECT\n",
    "  salary_in_usd\n",
    "FROM (\n",
    "  SELECT\n",
    "    salary_in_usd,\n",
    "    DENSE_RANK() OVER (ORDER BY salary_in_usd DESC) AS rnk\n",
    "  FROM\n",
    "    employees\n",
    ") AS ranked_salaries\n",
    "WHERE\n",
    "  rnk = 2;\n",
    "\"\"\""
   ]
  },
  {
   "cell_type": "code",
   "execution_count": 66,
   "id": "a6ad504b-5c20-4fda-b9cc-8774bf9d1c33",
   "metadata": {},
   "outputs": [],
   "source": [
    "snd_salary = pd.read_sql_query(sql_snd_dalary, con=engine)"
   ]
  },
  {
   "cell_type": "code",
   "execution_count": 67,
   "id": "d9634138-ee80-44a9-9819-f074a19053ea",
   "metadata": {},
   "outputs": [
    {
     "name": "stdout",
     "output_type": "stream",
     "text": [
      "   salary_in_usd\n",
      "0         430967\n"
     ]
    }
   ],
   "source": [
    "print(snd_salary)"
   ]
  },
  {
   "cell_type": "code",
   "execution_count": 68,
   "id": "9d3cf510-0395-4f10-88bb-f834b1dd03c4",
   "metadata": {},
   "outputs": [],
   "source": [
    "# check which country pays the most\n",
    "# to run the sql query, save it to a variable\n",
    "\n",
    "sql_highest_salary=\"\"\"\n",
    "SELECT\n",
    "  company_location,\n",
    "  ROUND(AVG(salary_in_usd)::numeric, 0) AS avg_salary,\n",
    "  COUNT(*) AS num_jobs\n",
    "FROM\n",
    "  employees\n",
    "GROUP BY\n",
    "  company_location\n",
    "ORDER BY\n",
    "  avg_salary DESC\n",
    "LIMIT 10;\n",
    "\"\"\""
   ]
  },
  {
   "cell_type": "code",
   "execution_count": 69,
   "id": "29593bba-3269-402f-8b74-0ff44bac47f9",
   "metadata": {},
   "outputs": [],
   "source": [
    "highest_salary = pd.read_sql_query(sql_highest_salary, con=engine)"
   ]
  },
  {
   "cell_type": "code",
   "execution_count": 70,
   "id": "ce8badfd-1a07-4ab6-98ff-e6d4e9a5ddca",
   "metadata": {},
   "outputs": [
    {
     "name": "stdout",
     "output_type": "stream",
     "text": [
      "         company_location  avg_salary  num_jobs\n",
      "0                   Qatar    300000.0         1\n",
      "1             Puerto Rico    167500.0         4\n",
      "2                   Japan    165500.0         4\n",
      "3           United States    158159.0      8132\n",
      "4                  Canada    143919.0       226\n",
      "5            Saudi Arabia    134999.0         2\n",
      "6               Australia    132283.0        24\n",
      "7             New Zealand    125000.0         1\n",
      "8                 Ukraine    121333.0         6\n",
      "9  Bosnia and Herzegovina    120000.0         1\n"
     ]
    }
   ],
   "source": [
    "print(highest_salary)"
   ]
  },
  {
   "cell_type": "markdown",
   "id": "2321b5f5-7a60-416d-8db9-02e3de94c7db",
   "metadata": {},
   "source": [
    "## 6. Differences between INNER JOIN, LEFT JOIN, RIGHT JOIN, and FULL OUTER JOIN."
   ]
  },
  {
   "cell_type": "markdown",
   "id": "d33fe6e4-7ac2-4f6d-a430-6e1695c60226",
   "metadata": {},
   "source": [
    "- **INNER JOIN** returns only the rows for which there is a match in both tables.\n",
    "In other words, it “intersects” Table A and Table B on the join key(s).\n",
    "- **LEFT JOIN**, returns all rows from the *left* table (A), plus matched rows from the *right* table (B).\n",
    "If there is no match in B, you still get all the A-rows, but any columns from B will be NULL.\n",
    "- **RIGHT JOIN**, returns all rows from the *right* table (B), plus matched rows from the *left* table (A).\n",
    "If there is no match in A, you still get all the B-rows, but any columns from A become NULL.\n",
    "- **FULL OUTER JOIN**, returns all rows from both tables (A and B). If a row in A has a match in B, you combine them.\n",
    "If a row in A has no match in B, you still see the A-row with NULLs for B’s columns. If a row in B has no match in A, you see the B-row with NULLs for A’s columns. In practice, you see A∩B (the overlap), plus A-only, plus B-only.\n"
   ]
  },
  {
   "cell_type": "markdown",
   "id": "3e088325-b43d-40cb-b6ed-a0940862a004",
   "metadata": {},
   "source": [
    "## 7. Design a database schema for a social media application’s “follow” relationships?"
   ]
  },
  {
   "cell_type": "code",
   "execution_count": 71,
   "id": "afaf2e69-ce60-4ca5-b6fc-8997fc9b01b0",
   "metadata": {},
   "outputs": [
    {
     "name": "stdout",
     "output_type": "stream",
     "text": [
      "✅ Tables `users` and `follows` have been created (or already existed).\n"
     ]
    }
   ],
   "source": [
    "# create a table for the social media application users and followers. Do it in a single sql instruction. \n",
    "# with the \"\"\" I can write exactly how I would write in an SQL query.\n",
    "create_users_followers_tables_sql = \"\"\"\n",
    "-- Create users table\n",
    "CREATE TABLE IF NOT EXISTS users (\n",
    "  id             BIGSERIAL     PRIMARY KEY,\n",
    "  username       VARCHAR(50)   NOT NULL UNIQUE,\n",
    "  email          VARCHAR(255)  NOT NULL UNIQUE,\n",
    "  created_at     TIMESTAMP     NOT NULL DEFAULT NOW(),\n",
    "  password_hash  VARCHAR(255)  NOT NULL,\n",
    "  CHECK (username <> '')\n",
    ");\n",
    "\n",
    "-- Create follows table\n",
    "CREATE TABLE IF NOT EXISTS follows (\n",
    "  follower_id BIGINT    NOT NULL,\n",
    "  followee_id BIGINT    NOT NULL,\n",
    "  created_at  TIMESTAMP NOT NULL DEFAULT NOW(),\n",
    "\n",
    "  PRIMARY KEY (follower_id, followee_id), -- single combinations, prevent repetitions\n",
    "\n",
    "  FOREIGN KEY (follower_id)\n",
    "    REFERENCES users (id)\n",
    "    ON DELETE CASCADE,\n",
    "  FOREIGN KEY (followee_id) -- if a user is deleted the whole cascade is also deleted from the table\n",
    "    REFERENCES users (id)\n",
    "    ON DELETE CASCADE,\n",
    "\n",
    "  CHECK (follower_id <> followee_id)\n",
    ");\n",
    "\n",
    "-- Indexes to speed up lookups\n",
    "CREATE INDEX IF NOT EXISTS idx_follows_follower ON follows (follower_id);\n",
    "CREATE INDEX IF NOT EXISTS idx_follows_followee ON follows (followee_id);\n",
    "\"\"\"\n",
    "\n",
    "# Execute the DDL in PostgreSQL\n",
    "with engine.begin() as conn:\n",
    "    conn.execute(text(create_users_followers_tables_sql))\n",
    "\n",
    "print(\"✅ Tables `users` and `follows` have been created (or already existed).\")\n",
    "\n"
   ]
  },
  {
   "cell_type": "code",
   "execution_count": 72,
   "id": "a3781151-5eaf-4713-bede-2b0e3b104767",
   "metadata": {},
   "outputs": [
    {
     "name": "stdout",
     "output_type": "stream",
     "text": [
      "✅ Sample rows inserted into `users`.\n"
     ]
    }
   ],
   "source": [
    "# create some mockup data\n",
    "insert_users_sql = \"\"\"\n",
    "INSERT INTO users (username, email, password_hash)\n",
    "VALUES\n",
    "  ('alice',   'alice@example.com',   '$2b$12$abcdefghijk01234567890123456789012345678901234567890'),  -- pretend bcrypt hash\n",
    "  ('bob',     'bob@example.com',     '$2b$12$mnopqrstuv34567890123456789012345678901234567890123456'),\n",
    "  ('carol',   'carol@example.com',   '$argon2i$v=19$m=65536,t=2,p=1$abcd1234$xyz9876543210abcdef'),\n",
    "  ('dave',    'dave@example.com',    '$argon2i$v=19$m=65536,t=2,p=1$wxyz5678$lmn543210abcdef987654'),\n",
    "  ('erin',    'erin@example.com',    '$2b$12$uvwxyz98765432101234567890123456789012345678901234567')\n",
    "ON CONFLICT (username) DO NOTHING;\n",
    "\"\"\"  \n",
    "\n",
    "with engine.begin() as conn:\n",
    "    conn.execute(text(insert_users_sql))\n",
    "\n",
    "print(\"✅ Sample rows inserted into `users`.\")"
   ]
  },
  {
   "cell_type": "code",
   "execution_count": 73,
   "id": "07afd641-cd13-4591-86ae-71741fe13e6e",
   "metadata": {},
   "outputs": [
    {
     "name": "stdout",
     "output_type": "stream",
     "text": [
      "\n",
      "Current users (id ↔ username):\n",
      " id username\n",
      "  1    alice\n",
      "  2      bob\n",
      "  3    carol\n",
      "  4     dave\n",
      "  5     erin\n",
      "\n",
      "✅ Sample rows inserted into `follows`.\n"
     ]
    }
   ],
   "source": [
    "# get the users id, so that then I can fake follow events. \n",
    "with engine.connect() as conn:\n",
    "    users_df = pd.read_sql(\"SELECT id, username FROM users ORDER BY id;\", conn)\n",
    "\n",
    "print(\"\\nCurrent users (id ↔ username):\")\n",
    "print(users_df.to_string(index=False))\n",
    "\n",
    "# build a dictionary where the username is teh dictionary keym and id is the value: username → id\n",
    "user_id_map = dict(zip(users_df[\"username\"], users_df[\"id\"]))\n",
    "\n",
    "# follow‐rows based on those IDs\n",
    "follows_rows = [\n",
    "    (user_id_map[\"alice\"], user_id_map[\"bob\"]),\n",
    "    (user_id_map[\"alice\"], user_id_map[\"carol\"]),\n",
    "    (user_id_map[\"bob\"],   user_id_map[\"alice\"]),\n",
    "    (user_id_map[\"carol\"], user_id_map[\"dave\"]),\n",
    "    (user_id_map[\"carol\"], user_id_map[\"erin\"]),\n",
    "    (user_id_map[\"erin\"],  user_id_map[\"alice\"]),\n",
    "]\n",
    "\n",
    "# insert them with “ON CONFLICT DO NOTHING” to avoid duplicates\n",
    "insert_follows = text(\"\"\"\n",
    "INSERT INTO follows (follower_id, followee_id)\n",
    "VALUES (:follower_id, :followee_id)\n",
    "ON CONFLICT (follower_id, followee_id) DO NOTHING;\n",
    "\"\"\")\n",
    "\n",
    "with engine.begin() as conn:\n",
    "    for follower_id, followee_id in follows_rows:\n",
    "        conn.execute(insert_follows, {\"follower_id\": follower_id, \"followee_id\": followee_id})\n",
    "\n",
    "print(\"\\n✅ Sample rows inserted into `follows`.\")\n"
   ]
  },
  {
   "cell_type": "code",
   "execution_count": 74,
   "id": "a378a9fe-6c71-40f0-b61e-b6a98a741944",
   "metadata": {},
   "outputs": [
    {
     "name": "stdout",
     "output_type": "stream",
     "text": [
      "\n",
      "--- `users` table: ---\n",
      " id username             email                 created_at                                                 password_hash\n",
      "  1    alice alice@example.com 2025-06-04 12:11:55.737032   $2b$12$abcdefghijk01234567890123456789012345678901234567890\n",
      "  2      bob   bob@example.com 2025-06-04 12:11:55.737032 $2b$12$mnopqrstuv34567890123456789012345678901234567890123456\n",
      "  3    carol carol@example.com 2025-06-04 12:11:55.737032    $argon2i$v=19$m=65536,t=2,p=1$abcd1234$xyz9876543210abcdef\n",
      "  4     dave  dave@example.com 2025-06-04 12:11:55.737032  $argon2i$v=19$m=65536,t=2,p=1$wxyz5678$lmn543210abcdef987654\n",
      "  5     erin  erin@example.com 2025-06-04 12:11:55.737032  $2b$12$uvwxyz98765432101234567890123456789012345678901234567\n",
      "\n",
      "--- `follows` table (joined with usernames): ---\n",
      " follower_id follower_username  followee_id followee_username                 created_at\n",
      "           1             alice            2               bob 2025-06-04 12:20:00.757452\n",
      "           1             alice            3             carol 2025-06-04 12:20:00.757452\n",
      "           2               bob            1             alice 2025-06-04 12:20:00.757452\n",
      "           3             carol            4              dave 2025-06-04 12:20:00.757452\n",
      "           3             carol            5              erin 2025-06-04 12:20:00.757452\n",
      "           5              erin            1             alice 2025-06-04 12:20:00.757452\n"
     ]
    }
   ],
   "source": [
    "# show\n",
    "with engine.connect() as conn:\n",
    "    users_full = pd.read_sql(\"SELECT * FROM users ORDER BY id;\", conn)\n",
    "    follows_full = pd.read_sql(\"\"\"\n",
    "        SELECT\n",
    "            f.follower_id,\n",
    "            u1.username AS follower_username,\n",
    "            f.followee_id,\n",
    "            u2.username AS followee_username,\n",
    "            f.created_at\n",
    "        FROM follows AS f\n",
    "        JOIN users u1 ON u1.id = f.follower_id\n",
    "        JOIN users u2 ON u2.id = f.followee_id\n",
    "        ORDER BY f.follower_id, f.followee_id;\n",
    "    \"\"\", conn)\n",
    "\n",
    "print(\"\\n--- `users` table: ---\")\n",
    "print(users_full.to_string(index=False))\n",
    "\n",
    "print(\"\\n--- `follows` table (joined with usernames): ---\")\n",
    "print(follows_full.to_string(index=False))\n"
   ]
  },
  {
   "cell_type": "code",
   "execution_count": 75,
   "id": "dd839130-0f3a-4aa0-993b-daea2abcebf8",
   "metadata": {},
   "outputs": [
    {
     "name": "stdout",
     "output_type": "stream",
     "text": [
      "Users Alice is following:\n",
      " user_id username                followed_at\n",
      "       2      bob 2025-06-04 12:20:00.757452\n",
      "       3    carol 2025-06-04 12:20:00.757452\n"
     ]
    }
   ],
   "source": [
    "# who is'alice' following\n",
    "alice_id = user_id_map['alice']\n",
    "following_df = pd.read_sql(text(\"\"\"\n",
    "    SELECT \n",
    "        u.id AS user_id, \n",
    "        u.username AS username, \n",
    "        f.created_at AS followed_at\n",
    "    FROM follows f\n",
    "    JOIN users u ON u.id = f.followee_id\n",
    "    WHERE f.follower_id = :alice_id\n",
    "    ORDER BY u.username;\n",
    "\"\"\"), engine, params={\"alice_id\": alice_id})\n",
    "\n",
    "print(\"Users Alice is following:\")\n",
    "print(following_df.to_string(index=False))"
   ]
  },
  {
   "cell_type": "markdown",
   "id": "9baea7c3-7c91-472d-8eb9-cad1a491ea47",
   "metadata": {},
   "source": [
    "## 8. Describe normalization and denormalization. Give an example where denormalization is preferable."
   ]
  },
  {
   "cell_type": "markdown",
   "id": "16cf5f5e-43cb-401f-a619-4e893a33dc9e",
   "metadata": {},
   "source": [
    "1. **Normalization** is the process of organizing a relational database so that:\n",
    "- Redundancy is minimized, and\n",
    "- Data integrity is ensured through well-defined relationships.\n",
    "The core idea is to split data into multiple related tables and enforce relationships via foreign keys, thereby avoiding duplicate storage of the same information.\n",
    "\n",
    "2. **Denormalization** is the intentional introduction of redundancy—combining or pre‐joining tables, or storing computed/duplicated fields—so that read queries require fewer (or simpler) joins. It is usefull if we are dealing with high-traffic web pages that have a large number of reads very quickly. Yet, it can lead to redudant data (same information in multiple places).\n",
    "- Preferably when a lot is requested: for instance in a social feed that shows user + profile picture + follower count. Under a normalized schema we would need must more requestes because it would be three different columns. "
   ]
  },
  {
   "cell_type": "markdown",
   "id": "9de65918-3dc1-456b-b87c-e102140d7d5f",
   "metadata": {},
   "source": [
    "## 9. NoSQL databases\n",
    "Popular NoSQL products: MongoDB (document suited), Redis (key-values) and Cassandra. \n",
    "No-relation database are more relaxed and flexible. They don't store the data in rigid tables, they can save in documents (similar to rowns in SQL), key-values and other. More suited for rapidly changing data, and this systems ofetn encourage denormalization, with nested or duplicated fields.  \n",
    "NoSQL -> Better for many many read and write requests. Horizontal and vertical scaling.\n",
    "SQL -> Vertical scalling. Need of relations. If the data changes a lot, and needs to be updated often."
   ]
  },
  {
   "cell_type": "code",
   "execution_count": 76,
   "id": "8357e32c-118a-4ca0-adb7-4b9b2ce226da",
   "metadata": {},
   "outputs": [],
   "source": [
    "# To delete documents of the collection\n",
    "result = collection.delete_many({})"
   ]
  },
  {
   "cell_type": "code",
   "execution_count": 77,
   "id": "6f90c954-aebd-4a00-b88e-f44f7a45eb30",
   "metadata": {},
   "outputs": [
    {
     "name": "stdout",
     "output_type": "stream",
     "text": [
      "Inserted sample documents into 'users_collection'.\n"
     ]
    }
   ],
   "source": [
    "# connect \n",
    "MONGO_URI = \"mongodb://localhost:27017\"  \n",
    "client = pymongo.MongoClient(MONGO_URI)\n",
    "\n",
    "# create a database and a collection\n",
    "db = client[\"my_database\"]            # creates my_database\n",
    "collection = db[\"users_collection\"]   # creates users_collection\n",
    "\n",
    "# insert a few sample documents \n",
    "sample_docs = [\n",
    "    {\n",
    "        \"username\": \"alice\",\n",
    "        \"email\": \"alice@example.com\",\n",
    "        \"profile\": {\n",
    "            \"first_name\": \"Alice\", # no age\n",
    "            \"last_name\": \"Johnson\"\n",
    "            # no age in this profile\n",
    "        },\n",
    "        \"adress\": \"USA\", # only document with this field\n",
    "        \"roles\": [\"admin\", \"editor\"],\n",
    "        \"created_at\": pd.Timestamp(\"2025-06-05 09:00:00\")  \n",
    "    },\n",
    "    {\n",
    "        \"username\": \"bob\",\n",
    "        \"email\": \"bob@example.com\",\n",
    "        \"profile\": {\n",
    "            \"first_name\": \"Bob\",\n",
    "            \"last_name\": \"Smith\",\n",
    "            \"age\": 28\n",
    "        },\n",
    "        \"roles\": [\"editor\"],\n",
    "        \"created_at\": pd.Timestamp(\"2025-06-04 14:30:00\")\n",
    "    },\n",
    "    {\n",
    "        \"username\": \"carol\",\n",
    "        \"email\": \"carol@example.com\",\n",
    "        \"profile\": {\n",
    "            \"first_name\": \"Carol\",\n",
    "            \"last_name\": \"Williams\",\n",
    "            \"age\": 25\n",
    "        },\n",
    "        \"roles\": [\"viewer\"],\n",
    "        \"created_at\": pd.Timestamp(\"2025-06-02 16:15:00\")\n",
    "    }\n",
    "]\n",
    "\n",
    "# insert if collection is empty (so re-running doesn’t duplicate)\n",
    "if collection.count_documents({}) == 0:\n",
    "    collection.insert_many(sample_docs)\n",
    "    print(\"Inserted sample documents into 'users_collection'.\")\n",
    "\n"
   ]
  },
  {
   "cell_type": "code",
   "execution_count": 78,
   "id": "d74b239a-4831-477f-9854-2cae8b51fa6a",
   "metadata": {},
   "outputs": [
    {
     "name": "stdout",
     "output_type": "stream",
     "text": [
      "Documents where roles include 'editor':\n"
     ]
    },
    {
     "data": {
      "text/html": [
       "<div>\n",
       "<style scoped>\n",
       "    .dataframe tbody tr th:only-of-type {\n",
       "        vertical-align: middle;\n",
       "    }\n",
       "\n",
       "    .dataframe tbody tr th {\n",
       "        vertical-align: top;\n",
       "    }\n",
       "\n",
       "    .dataframe thead th {\n",
       "        text-align: right;\n",
       "    }\n",
       "</style>\n",
       "<table border=\"1\" class=\"dataframe\">\n",
       "  <thead>\n",
       "    <tr style=\"text-align: right;\">\n",
       "      <th></th>\n",
       "      <th>_id</th>\n",
       "      <th>username</th>\n",
       "      <th>email</th>\n",
       "      <th>profile</th>\n",
       "      <th>adress</th>\n",
       "      <th>roles</th>\n",
       "      <th>created_at</th>\n",
       "    </tr>\n",
       "  </thead>\n",
       "  <tbody>\n",
       "    <tr>\n",
       "      <th>0</th>\n",
       "      <td>6841aa6366a7f9e0aa33040a</td>\n",
       "      <td>alice</td>\n",
       "      <td>alice@example.com</td>\n",
       "      <td>{'first_name': 'Alice', 'last_name': 'Johnson'}</td>\n",
       "      <td>USA</td>\n",
       "      <td>[admin, editor]</td>\n",
       "      <td>2025-06-05 09:00:00</td>\n",
       "    </tr>\n",
       "    <tr>\n",
       "      <th>1</th>\n",
       "      <td>6841aa6366a7f9e0aa33040b</td>\n",
       "      <td>bob</td>\n",
       "      <td>bob@example.com</td>\n",
       "      <td>{'first_name': 'Bob', 'last_name': 'Smith', 'a...</td>\n",
       "      <td>NaN</td>\n",
       "      <td>[editor]</td>\n",
       "      <td>2025-06-04 14:30:00</td>\n",
       "    </tr>\n",
       "  </tbody>\n",
       "</table>\n",
       "</div>"
      ],
      "text/plain": [
       "                        _id username              email  \\\n",
       "0  6841aa6366a7f9e0aa33040a    alice  alice@example.com   \n",
       "1  6841aa6366a7f9e0aa33040b      bob    bob@example.com   \n",
       "\n",
       "                                             profile adress            roles  \\\n",
       "0    {'first_name': 'Alice', 'last_name': 'Johnson'}    USA  [admin, editor]   \n",
       "1  {'first_name': 'Bob', 'last_name': 'Smith', 'a...    NaN         [editor]   \n",
       "\n",
       "           created_at  \n",
       "0 2025-06-05 09:00:00  \n",
       "1 2025-06-04 14:30:00  "
      ]
     },
     "metadata": {},
     "output_type": "display_data"
    },
    {
     "name": "stdout",
     "output_type": "stream",
     "text": [
      "                        _id username              email  \\\n",
      "0  6841aa6366a7f9e0aa33040a    alice  alice@example.com   \n",
      "1  6841aa6366a7f9e0aa33040b      bob    bob@example.com   \n",
      "\n",
      "                                             profile adress            roles  \\\n",
      "0    {'first_name': 'Alice', 'last_name': 'Johnson'}    USA  [admin, editor]   \n",
      "1  {'first_name': 'Bob', 'last_name': 'Smith', 'a...    NaN         [editor]   \n",
      "\n",
      "           created_at  \n",
      "0 2025-06-05 09:00:00  \n",
      "1 2025-06-04 14:30:00  \n"
     ]
    }
   ],
   "source": [
    "# find() on a collection searches from a document where the field role has 'editor'\n",
    "results_cursor = collection.find({\"roles\": \"editor\"})\n",
    "results_list = list(results_cursor) # a list whose elemnsta are dictionaries\n",
    "# print(results_list)\n",
    "for doc in results_list:\n",
    "    # Convert ObjectId to string for nicer display\n",
    "    doc[\"_id\"] = str(doc[\"_id\"])\n",
    "# print(results_list) # Improved formatting\n",
    "users_df = pd.DataFrame(results_list)\n",
    "\n",
    "print(\"Documents where roles include 'editor':\")\n",
    "display(users_df)\n",
    "print(users_df)"
   ]
  },
  {
   "cell_type": "code",
   "execution_count": 79,
   "id": "7ed69d23-7fc6-4500-9a76-68869719cf82",
   "metadata": {},
   "outputs": [
    {
     "data": {
      "text/html": [
       "<div>\n",
       "<style scoped>\n",
       "    .dataframe tbody tr th:only-of-type {\n",
       "        vertical-align: middle;\n",
       "    }\n",
       "\n",
       "    .dataframe tbody tr th {\n",
       "        vertical-align: top;\n",
       "    }\n",
       "\n",
       "    .dataframe thead th {\n",
       "        text-align: right;\n",
       "    }\n",
       "</style>\n",
       "<table border=\"1\" class=\"dataframe\">\n",
       "  <thead>\n",
       "    <tr style=\"text-align: right;\">\n",
       "      <th></th>\n",
       "      <th>_id</th>\n",
       "      <th>username</th>\n",
       "      <th>email</th>\n",
       "      <th>profile</th>\n",
       "      <th>roles</th>\n",
       "      <th>created_at</th>\n",
       "    </tr>\n",
       "  </thead>\n",
       "  <tbody>\n",
       "    <tr>\n",
       "      <th>0</th>\n",
       "      <td>6841aa6366a7f9e0aa33040b</td>\n",
       "      <td>bob</td>\n",
       "      <td>bob@example.com</td>\n",
       "      <td>{'first_name': 'Bob', 'last_name': 'Smith', 'a...</td>\n",
       "      <td>[editor]</td>\n",
       "      <td>2025-06-04 14:30:00</td>\n",
       "    </tr>\n",
       "  </tbody>\n",
       "</table>\n",
       "</div>"
      ],
      "text/plain": [
       "                        _id username            email  \\\n",
       "0  6841aa6366a7f9e0aa33040b      bob  bob@example.com   \n",
       "\n",
       "                                             profile     roles  \\\n",
       "0  {'first_name': 'Bob', 'last_name': 'Smith', 'a...  [editor]   \n",
       "\n",
       "           created_at  \n",
       "0 2025-06-04 14:30:00  "
      ]
     },
     "metadata": {},
     "output_type": "display_data"
    }
   ],
   "source": [
    "# Who is older than 26?\n",
    "cursor = collection.find({\"profile.age\": {\"$gt\": 26}}).sort(\"profile.age\", pymongo.ASCENDING)\n",
    "df_over_26 = pd.DataFrame(list(cursor))\n",
    "df_over_26[\"_id\"] = df_over_26[\"_id\"].astype(str)  # stringify the ObjectId\n",
    "display(df_over_26)"
   ]
  },
  {
   "cell_type": "code",
   "execution_count": 80,
   "id": "4495781c-e0c6-4a6b-a4af-386710373097",
   "metadata": {},
   "outputs": [
    {
     "data": {
      "text/plain": [
       "UpdateResult({'n': 1, 'nModified': 1, 'ok': 1.0, 'updatedExisting': True}, acknowledged=True)"
      ]
     },
     "execution_count": 80,
     "metadata": {},
     "output_type": "execute_result"
    }
   ],
   "source": [
    "# Add a new field to only one document\n",
    "collection.update_one(\n",
    "    {\"username\": \"bob\"},\n",
    "    {\"$set\": {\"last_login\": datetime.utcnow()}}\n",
    ")"
   ]
  },
  {
   "cell_type": "code",
   "execution_count": 81,
   "id": "e85b47f2-1fc5-4c4b-ac48-9f79cda473f9",
   "metadata": {},
   "outputs": [
    {
     "name": "stdout",
     "output_type": "stream",
     "text": [
      "Deleted Carol’s document, if it existed.\n"
     ]
    }
   ],
   "source": [
    "# Delete one document based on username\n",
    "collection.delete_one({\"username\": \"carol\"})\n",
    "print(\"Deleted Carol’s document, if it existed.\")"
   ]
  },
  {
   "cell_type": "code",
   "execution_count": 82,
   "id": "c62ac92e-7d00-4e5a-8d46-11cdb9380802",
   "metadata": {},
   "outputs": [
    {
     "data": {
      "text/html": [
       "<div>\n",
       "<style scoped>\n",
       "    .dataframe tbody tr th:only-of-type {\n",
       "        vertical-align: middle;\n",
       "    }\n",
       "\n",
       "    .dataframe tbody tr th {\n",
       "        vertical-align: top;\n",
       "    }\n",
       "\n",
       "    .dataframe thead th {\n",
       "        text-align: right;\n",
       "    }\n",
       "</style>\n",
       "<table border=\"1\" class=\"dataframe\">\n",
       "  <thead>\n",
       "    <tr style=\"text-align: right;\">\n",
       "      <th></th>\n",
       "      <th>_id</th>\n",
       "      <th>username</th>\n",
       "      <th>email</th>\n",
       "      <th>profile</th>\n",
       "      <th>adress</th>\n",
       "      <th>roles</th>\n",
       "      <th>created_at</th>\n",
       "      <th>last_login</th>\n",
       "    </tr>\n",
       "  </thead>\n",
       "  <tbody>\n",
       "    <tr>\n",
       "      <th>0</th>\n",
       "      <td>6841aa6366a7f9e0aa33040a</td>\n",
       "      <td>alice</td>\n",
       "      <td>alice@example.com</td>\n",
       "      <td>{'first_name': 'Alice', 'last_name': 'Johnson'}</td>\n",
       "      <td>USA</td>\n",
       "      <td>[admin, editor]</td>\n",
       "      <td>2025-06-05 09:00:00</td>\n",
       "      <td>NaT</td>\n",
       "    </tr>\n",
       "    <tr>\n",
       "      <th>1</th>\n",
       "      <td>6841aa6366a7f9e0aa33040b</td>\n",
       "      <td>bob</td>\n",
       "      <td>bob@example.com</td>\n",
       "      <td>{'first_name': 'Bob', 'last_name': 'Smith', 'a...</td>\n",
       "      <td>NaN</td>\n",
       "      <td>[editor]</td>\n",
       "      <td>2025-06-04 14:30:00</td>\n",
       "      <td>2025-06-05 14:32:03.705</td>\n",
       "    </tr>\n",
       "  </tbody>\n",
       "</table>\n",
       "</div>"
      ],
      "text/plain": [
       "                        _id username              email  \\\n",
       "0  6841aa6366a7f9e0aa33040a    alice  alice@example.com   \n",
       "1  6841aa6366a7f9e0aa33040b      bob    bob@example.com   \n",
       "\n",
       "                                             profile adress            roles  \\\n",
       "0    {'first_name': 'Alice', 'last_name': 'Johnson'}    USA  [admin, editor]   \n",
       "1  {'first_name': 'Bob', 'last_name': 'Smith', 'a...    NaN         [editor]   \n",
       "\n",
       "           created_at              last_login  \n",
       "0 2025-06-05 09:00:00                     NaT  \n",
       "1 2025-06-04 14:30:00 2025-06-05 14:32:03.705  "
      ]
     },
     "metadata": {},
     "output_type": "display_data"
    }
   ],
   "source": [
    "# Show all documents\n",
    "docs = list(collection.find({}))\n",
    "for d in docs:\n",
    "    d[\"_id\"] = str(d[\"_id\"])\n",
    "df = pd.DataFrame(docs)\n",
    "display(df)"
   ]
  },
  {
   "cell_type": "code",
   "execution_count": null,
   "id": "5b443c5c-7e67-485d-bf20-b61556fc5eff",
   "metadata": {},
   "outputs": [],
   "source": []
  }
 ],
 "metadata": {
  "kernelspec": {
   "display_name": "Python 3 (ipykernel)",
   "language": "python",
   "name": "python3"
  },
  "language_info": {
   "codemirror_mode": {
    "name": "ipython",
    "version": 3
   },
   "file_extension": ".py",
   "mimetype": "text/x-python",
   "name": "python",
   "nbconvert_exporter": "python",
   "pygments_lexer": "ipython3",
   "version": "3.11.9"
  }
 },
 "nbformat": 4,
 "nbformat_minor": 5
}
